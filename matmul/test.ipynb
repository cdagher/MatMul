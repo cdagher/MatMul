{
 "cells": [
  {
   "cell_type": "markdown",
   "metadata": {},
   "source": [
    "### Test space for reducing FLOPs in matrix multiplicaiton using a NN"
   ]
  },
  {
   "cell_type": "code",
   "execution_count": 12,
   "metadata": {},
   "outputs": [],
   "source": [
    "from jaxtyping import Float, Array, Int, PyTree\n",
    "\n",
    "import jax\n",
    "import jax.numpy as jnp\n",
    "from jax import random as jrandom\n",
    "\n",
    "from jax import scipy as jsp\n",
    "\n",
    "import equinox as eqx\n",
    "from equinox import Module\n",
    "\n",
    "import optax as opt\n",
    "\n",
    "from src.nn import *\n",
    "\n",
    "import numpy as np\n",
    "\n",
    "from matplotlib import pyplot as plt\n",
    "\n",
    "import streamlit as st\n",
    "from src.nn import *"
   ]
  },
  {
   "cell_type": "code",
   "execution_count": 2,
   "metadata": {},
   "outputs": [],
   "source": [
    "# Hyperparameters\n",
    "BATCH_SIZE = 64\n",
    "LEARNING_RATE = 3e-4\n",
    "EPOCHS = 2000\n",
    "PRINT_EVERY = 100\n",
    "SEED = 0"
   ]
  },
  {
   "cell_type": "code",
   "execution_count": 3,
   "metadata": {},
   "outputs": [],
   "source": [
    "# Data\n",
    "def load_data(b: int = 100, key: jrandom.PRNGKey = jrandom.PRNGKey(0)):\n",
    "    key, subkey = jrandom.split(key)\n",
    "    X = jrandom.normal(subkey, (b, 2, 10, 10))\n",
    "    Y = X[:, 0] @ X[:, 1]\n",
    "\n",
    "    return X, Y\n"
   ]
  },
  {
   "cell_type": "code",
   "execution_count": 4,
   "metadata": {},
   "outputs": [],
   "source": [
    "# Evaluation and Training\n",
    "def loss(model: NN, x: Float[Array, \"b 2 10 10\"], y: Float[Array, \"b 10 10\"]) -> Float[Array, \"\"]:\n",
    "    y_pred = jax.vmap(model)(x[:, 0], x[:, 1])\n",
    "    # return jnp.mean((y - y_pred) ** 2)\n",
    "    # return cross_entropy(y, y_pred)\n",
    "    return jnp.linalg.norm(y - y_pred) # frobenius norm by default\n",
    "\n",
    "def cross_entropy(y: Float[Array, \"b 10 10\"], y_pred: Float[Array, \"b 10 10\"]) -> Float[Array, \"\"]:\n",
    "    return -jnp.mean(y * jnp.log(y_pred))\n",
    "\n",
    "def accuracy(y: Float[Array, \"b 10 10\"], y_pred: Float[Array, \"b 10 10\"]) -> Float[Array, \"\"]:\n",
    "    return jnp.mean(y == y_pred)\n",
    "\n",
    "def evaluate(model: NN, b: int = 100, key: jrandom.PRNGKey = jrandom.PRNGKey(0)) -> Float[Array, \"\"]:\n",
    "    X, Y = load_data(b, key)\n",
    "    return loss(model, X, Y)\n",
    "\n",
    "def train(\n",
    "        model: NN,\n",
    "        optim: opt.GradientTransformation,\n",
    "        steps: int,\n",
    "        print_every: int\n",
    ") -> NN:\n",
    "    opt_state = optim.init(eqx.filter(model, eqx.is_array))\n",
    "\n",
    "    @eqx.filter_jit\n",
    "    def step(\n",
    "        model: NN,\n",
    "        opt_state: PyTree,\n",
    "        x: Float[Array, \"b 2 10 10\"],\n",
    "        y: Float[Array, \"b 10 10\"]\n",
    "    ) -> NN:\n",
    "        loss_value, grads = eqx.filter_value_and_grad(loss)(model, x, y)\n",
    "        updates, opt_step = optim.update(grads, opt_state, model)\n",
    "        model = eqx.apply_updates(model, updates)\n",
    "        return model, opt_step, loss_value\n",
    "    \n",
    "    def infinite_trainloader():\n",
    "        while True:\n",
    "            X, Y = load_data(BATCH_SIZE)\n",
    "            yield X, Y\n",
    "\n",
    "    for s, (x, y) in zip(range(steps), infinite_trainloader()):\n",
    "        model, opt_state, loss_value = step(model, opt_state, x, y)\n",
    "\n",
    "        if s % print_every == 0 or s == steps - 1:\n",
    "            print(f\"Step {s}, Loss: {loss_value}\")\n",
    "\n",
    "    return model\n"
   ]
  },
  {
   "cell_type": "markdown",
   "metadata": {},
   "source": [
    "### Initialize and train the model"
   ]
  },
  {
   "cell_type": "code",
   "execution_count": null,
   "metadata": {},
   "outputs": [],
   "source": [
    "print(\"Training CNN\")\n",
    "\n",
    "net = CNN()\n",
    "\n",
    "print(\"Network parameters: \", net.param_count(), \"\\n\")\n",
    "\n",
    "net = train(net, opt.adam(LEARNING_RATE), EPOCHS, PRINT_EVERY)\n",
    "\n",
    "plt.plot(net.layer_singular_values(5))\n",
    "plt.yscale('log')\n",
    "plt.show()\n",
    "\n",
    "print(\"\\nSplitting layer 5\")\n",
    "net.split_layer(5, 25)\n",
    "print(\"\\nNetwork parameters: \", net.param_count(), \"\\n\")\n",
    "\n",
    "net = train(net, opt.adam(LEARNING_RATE), 2*EPOCHS, PRINT_EVERY)\n"
   ]
  },
  {
   "cell_type": "code",
   "execution_count": null,
   "metadata": {},
   "outputs": [],
   "source": [
    "print(net)"
   ]
  },
  {
   "cell_type": "code",
   "execution_count": null,
   "metadata": {},
   "outputs": [],
   "source": [
    "plt.plot(net.layer_singular_values(-1))\n",
    "plt.yscale('log')\n",
    "plt.show()"
   ]
  },
  {
   "cell_type": "code",
   "execution_count": null,
   "metadata": {},
   "outputs": [],
   "source": [
    "net.split_layer(-1, 85)\n",
    "\n",
    "net = train(net, opt.adam(LEARNING_RATE/10.), 2*EPOCHS, PRINT_EVERY)"
   ]
  },
  {
   "cell_type": "code",
   "execution_count": null,
   "metadata": {},
   "outputs": [],
   "source": [
    "print(net)"
   ]
  },
  {
   "cell_type": "code",
   "execution_count": null,
   "metadata": {},
   "outputs": [],
   "source": [
    "print(net.layers[-1].param_count())"
   ]
  },
  {
   "cell_type": "markdown",
   "metadata": {},
   "source": [
    "### Try out a matrix vector product with a 100x100 Toeplitz matrix"
   ]
  },
  {
   "cell_type": "code",
   "execution_count": 3,
   "metadata": {},
   "outputs": [],
   "source": [
    "class Toeplitz(NN):\n",
    "    '''\n",
    "    A CNN to approximate a Toeplitz matrix with diagonals [1, -2, 1]\n",
    "    on the sub, main, and super diagonals, respectively.\n",
    "    '''\n",
    "    \n",
    "    res_layer: Float[Array, \"1 100\"]\n",
    "\n",
    "    def __init__(self, key: Optional[jrandom.PRNGKey] = jrandom.PRNGKey(0)):\n",
    "        \n",
    "        keys = jrandom.split(key, 6)\n",
    "\n",
    "        self.layers = [\n",
    "            eqx.nn.Linear(100, 100, key=keys[0]), # output: 1x100\n",
    "            eqx.nn.Conv1d(1, 1, kernel_size=3, stride=3, key=keys[1], padding_mode='REFLECT'),  # output: 1x33\n",
    "            jax.nn.relu,\n",
    "            eqx.nn.Conv1d(1, 1, kernel_size=3, stride=1, key=keys[2], padding_mode='REFLECT'),  # output: 1x31\n",
    "            jax.nn.relu,\n",
    "            eqx.nn.Linear(31, 256, key=keys[3]),  # output: 1x256\n",
    "            jax.nn.relu,\n",
    "            eqx.nn.Linear(256, 100, key=keys[4])  # output: 1x100\n",
    "        ]\n",
    "\n",
    "        self.res_layer = eqx.nn.Linear(100, 100, key=keys[5])\n",
    "\n",
    "    def __call__(self, x: Float[Array, \"b 100\"]) -> Float[Array, \"b 100\"]:\n",
    "        r = self.res_layer(x)\n",
    "        \n",
    "        x = self.layers[0](x)\n",
    "        x = jnp.expand_dims(x, 0)\n",
    "        # convolutional layers\n",
    "        x = self.layers[1](x)\n",
    "        x = self.layers[2](x)\n",
    "        x = self.layers[3](x)\n",
    "        x = self.layers[4](x)\n",
    "        # linear layers\n",
    "        x = jnp.reshape(x, (x.shape[-1],))\n",
    "        for layer in self.layers[5:]:\n",
    "            x = layer(x)\n",
    "        \n",
    "        x = x + r\n",
    "\n",
    "        return x\n"
   ]
  },
  {
   "cell_type": "code",
   "execution_count": 4,
   "metadata": {},
   "outputs": [],
   "source": [
    "# Data\n",
    "def load_data(b: Optional[int] = 100, key: jrandom.PRNGKey = jrandom.PRNGKey(0)):\n",
    "    key, subkey = jrandom.split(key)\n",
    "\n",
    "    c = jnp.zeros((100,))\n",
    "    c = c.at[0].set(-2.)\n",
    "    c = c.at[1].set(1.)\n",
    "\n",
    "    r = jnp.zeros((100,))\n",
    "    r = r.at[0].set(-2.)\n",
    "    r = r.at[1].set(1.)\n",
    "\n",
    "    A = jsp.linalg.toeplitz(c, r)\n",
    "    \n",
    "    x = jrandom.normal(subkey, (b, 100))\n",
    "    Y = A @ x[:, ].T\n",
    "\n",
    "    return x, Y"
   ]
  },
  {
   "cell_type": "code",
   "execution_count": 5,
   "metadata": {},
   "outputs": [],
   "source": [
    "# Evaluation and Training\n",
    "def loss(model: NN, x: Float[Array, \"b 100\"], y: Float[Array, \"b 100\"]) -> Float[Array, \"\"]:\n",
    "    y_pred = jax.vmap(model)(x)\n",
    "    return jnp.linalg.norm(y.T - y_pred) # 2-norm by default for vectors\n",
    "\n",
    "def evaluate(model: NN, b: int = 100, key: jrandom.PRNGKey = jrandom.PRNGKey(0)) -> Float[Array, \"\"]:\n",
    "    X, Y = load_data(b, key)\n",
    "    return loss(model, X, Y)\n",
    "\n",
    "def train(\n",
    "        model: NN,\n",
    "        optim: opt.GradientTransformation,\n",
    "        steps: int,\n",
    "        print_every: int\n",
    ") -> NN:\n",
    "    opt_state = optim.init(eqx.filter(model, eqx.is_array))\n",
    "\n",
    "    @eqx.filter_jit\n",
    "    def step(\n",
    "        model: NN,\n",
    "        opt_state: PyTree,\n",
    "        x: Float[Array, \"b 2 10 10\"],\n",
    "        y: Float[Array, \"b 10 10\"]\n",
    "    ) -> NN:\n",
    "        loss_value, grads = eqx.filter_value_and_grad(loss)(model, x, y)\n",
    "        updates, opt_step = optim.update(grads, opt_state, model)\n",
    "        model = eqx.apply_updates(model, updates)\n",
    "        return model, opt_step, loss_value\n",
    "    \n",
    "    def infinite_trainloader():\n",
    "        while True:\n",
    "            X, Y = load_data(BATCH_SIZE)\n",
    "            yield X, Y\n",
    "\n",
    "    for s, (x, y) in zip(range(steps), infinite_trainloader()):\n",
    "        model, opt_state, loss_value = step(model, opt_state, x, y)\n",
    "\n",
    "        if s % print_every == 0 or s == steps - 1:\n",
    "            print(f\"Step {s}, Loss: {loss_value}\")\n",
    "\n",
    "    return model\n"
   ]
  },
  {
   "cell_type": "code",
   "execution_count": 7,
   "metadata": {},
   "outputs": [
    {
     "name": "stdout",
     "output_type": "stream",
     "text": [
      "Network parameters:  54100 \n",
      "\n",
      "Step 0, Loss: 207.3179473876953\n",
      "Step 100, Loss: 179.8798370361328\n",
      "Step 200, Loss: 157.07521057128906\n",
      "Step 300, Loss: 137.0595245361328\n",
      "Step 400, Loss: 119.28660583496094\n",
      "Step 500, Loss: 103.46369934082031\n",
      "Step 600, Loss: 89.37133026123047\n",
      "Step 700, Loss: 76.8233871459961\n",
      "Step 800, Loss: 65.64781951904297\n",
      "Step 900, Loss: 55.68010330200195\n",
      "Step 1000, Loss: 46.76640319824219\n",
      "Step 1100, Loss: 38.76856231689453\n",
      "Step 1200, Loss: 31.567745208740234\n",
      "Step 1300, Loss: 25.067419052124023\n",
      "Step 1400, Loss: 19.196441650390625\n",
      "Step 1500, Loss: 13.911577224731445\n",
      "Step 1600, Loss: 9.198027610778809\n",
      "Step 1700, Loss: 5.073873519897461\n",
      "Step 1800, Loss: 1.635018229484558\n",
      "Step 1900, Loss: 0.12071845680475235\n",
      "Step 2000, Loss: 0.056409165263175964\n",
      "Step 2100, Loss: 0.044170573353767395\n",
      "Step 2200, Loss: 0.04645336791872978\n",
      "Step 2300, Loss: 0.044701896607875824\n",
      "Step 2400, Loss: 0.027774952352046967\n",
      "Step 2500, Loss: 0.02707802504301071\n",
      "Step 2600, Loss: 0.035065583884716034\n",
      "Step 2700, Loss: 0.03281651809811592\n",
      "Step 2800, Loss: 0.02480073645710945\n",
      "Step 2900, Loss: 0.03008258529007435\n",
      "Step 2999, Loss: 0.024942180141806602\n"
     ]
    }
   ],
   "source": [
    "net = Toeplitz()\n",
    "\n",
    "print(\"Network parameters: \", net.param_count(), \"\\n\")\n",
    "\n",
    "net = train(net, opt.adam(LEARNING_RATE), int(1.5*EPOCHS), PRINT_EVERY)"
   ]
  },
  {
   "cell_type": "code",
   "execution_count": 8,
   "metadata": {},
   "outputs": [
    {
     "data": {
      "image/png": "[encoded data removed]",
      "text/plain": [
       "<Figure size 640x480 with 1 Axes>"
      ]
     },
     "metadata": {},
     "output_type": "display_data"
    }
   ],
   "source": [
    "plt.plot(net.layer_singular_values(-1))\n",
    "plt.yscale('log')\n",
    "plt.show()"
   ]
  },
  {
   "cell_type": "code",
   "execution_count": 9,
   "metadata": {},
   "outputs": [
    {
     "data": {
      "image/png": "[encoded data removed]",
      "text/plain": [
       "<Figure size 640x480 with 1 Axes>"
      ]
     },
     "metadata": {},
     "output_type": "display_data"
    }
   ],
   "source": [
    "plt.plot(net.layer_singular_values(-3))\n",
    "plt.yscale('log')\n",
    "plt.show()"
   ]
  },
  {
   "cell_type": "markdown",
   "metadata": {},
   "source": [
    "Maybe we can reduce the number of parameters in the last layer."
   ]
  },
  {
   "cell_type": "code",
   "execution_count": 10,
   "metadata": {},
   "outputs": [
    {
     "name": "stdout",
     "output_type": "stream",
     "text": [
      "New parameter count:  32060\n",
      "Step 0, Loss: 1.723635196685791\n",
      "Step 100, Loss: 0.3318324685096741\n",
      "Step 200, Loss: 0.01981212943792343\n",
      "Step 300, Loss: 0.003721330314874649\n",
      "Step 400, Loss: 0.002792930696159601\n",
      "Step 500, Loss: 0.002525493735447526\n",
      "Step 600, Loss: 0.0023241129238158464\n",
      "Step 700, Loss: 0.001577903749421239\n",
      "Step 800, Loss: 0.001996465492993593\n",
      "Step 900, Loss: 0.0018682109657675028\n",
      "Step 1000, Loss: 0.0022578660864382982\n",
      "Step 1100, Loss: 0.0018558867741376162\n",
      "Step 1200, Loss: 0.001772502320818603\n",
      "Step 1300, Loss: 0.0019033728167414665\n",
      "Step 1400, Loss: 0.0018756272038444877\n",
      "Step 1500, Loss: 0.0026477635838091373\n",
      "Step 1600, Loss: 0.0017519822577014565\n",
      "Step 1700, Loss: 0.0018641072092577815\n",
      "Step 1800, Loss: 0.0019455121364444494\n",
      "Step 1900, Loss: 0.0018292390741407871\n",
      "Step 2000, Loss: 0.001819936907850206\n",
      "Step 2100, Loss: 0.001890636165626347\n",
      "Step 2200, Loss: 0.0017916170181706548\n",
      "Step 2300, Loss: 0.00185407605022192\n",
      "Step 2400, Loss: 0.001843062462285161\n",
      "Step 2500, Loss: 0.0018207357497885823\n",
      "Step 2600, Loss: 0.001982633024454117\n",
      "Step 2700, Loss: 0.001893281820230186\n",
      "Step 2800, Loss: 0.001989529002457857\n",
      "Step 2900, Loss: 0.0019879357423633337\n",
      "Step 2999, Loss: 0.001710982178337872\n"
     ]
    }
   ],
   "source": [
    "net.split_layer(-1, 10)\n",
    "\n",
    "print(\"New parameter count: \", net.param_count())\n",
    "\n",
    "net = train(net, opt.adam(LEARNING_RATE/10.), int(1.5*EPOCHS), PRINT_EVERY)"
   ]
  },
  {
   "cell_type": "markdown",
   "metadata": {},
   "source": [
    "Around a 40% reduction isn't bad, but the accuracy still isn't very good."
   ]
  }
 ],
 "metadata": {
  "kernelspec": {
   "display_name": "MatMul",
   "language": "python",
   "name": "python3"
  },
  "language_info": {
   "codemirror_mode": {
    "name": "ipython",
    "version": 3
   },
   "file_extension": ".py",
   "mimetype": "text/x-python",
   "name": "python",
   "nbconvert_exporter": "python",
   "pygments_lexer": "ipython3",
   "version": "3.12.4"
  }
 },
 "nbformat": 4,
 "nbformat_minor": 2
}
